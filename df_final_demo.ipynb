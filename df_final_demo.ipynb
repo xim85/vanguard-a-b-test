{
 "cells": [
  {
   "cell_type": "code",
   "execution_count": 191,
   "metadata": {},
   "outputs": [],
   "source": [
    "import pandas as pd\n",
    "import matplotlib.pyplot as plt\n",
    "import seaborn as sns\n",
    "import numpy as np"
   ]
  },
  {
   "cell_type": "code",
   "execution_count": 87,
   "metadata": {},
   "outputs": [],
   "source": [
    "df_final_demo = pd.read_csv('df_final_demo.txt', delimiter=',',encoding='utf-8')\n",
    "df_final_demo.to_csv('df_final_demo.csv', index=False)"
   ]
  },
  {
   "cell_type": "code",
   "execution_count": 88,
   "metadata": {},
   "outputs": [
    {
     "data": {
      "text/html": [
       "<div>\n",
       "<style scoped>\n",
       "    .dataframe tbody tr th:only-of-type {\n",
       "        vertical-align: middle;\n",
       "    }\n",
       "\n",
       "    .dataframe tbody tr th {\n",
       "        vertical-align: top;\n",
       "    }\n",
       "\n",
       "    .dataframe thead th {\n",
       "        text-align: right;\n",
       "    }\n",
       "</style>\n",
       "<table border=\"1\" class=\"dataframe\">\n",
       "  <thead>\n",
       "    <tr style=\"text-align: right;\">\n",
       "      <th></th>\n",
       "      <th>client_id</th>\n",
       "      <th>clnt_tenure_yr</th>\n",
       "      <th>clnt_tenure_mnth</th>\n",
       "      <th>clnt_age</th>\n",
       "      <th>gendr</th>\n",
       "      <th>num_accts</th>\n",
       "      <th>bal</th>\n",
       "      <th>calls_6_mnth</th>\n",
       "      <th>logons_6_mnth</th>\n",
       "    </tr>\n",
       "  </thead>\n",
       "  <tbody>\n",
       "    <tr>\n",
       "      <th>0</th>\n",
       "      <td>836976</td>\n",
       "      <td>6.0</td>\n",
       "      <td>73.0</td>\n",
       "      <td>60.5</td>\n",
       "      <td>U</td>\n",
       "      <td>2.0</td>\n",
       "      <td>45105.30</td>\n",
       "      <td>6.0</td>\n",
       "      <td>9.0</td>\n",
       "    </tr>\n",
       "    <tr>\n",
       "      <th>1</th>\n",
       "      <td>2304905</td>\n",
       "      <td>7.0</td>\n",
       "      <td>94.0</td>\n",
       "      <td>58.0</td>\n",
       "      <td>U</td>\n",
       "      <td>2.0</td>\n",
       "      <td>110860.30</td>\n",
       "      <td>6.0</td>\n",
       "      <td>9.0</td>\n",
       "    </tr>\n",
       "    <tr>\n",
       "      <th>2</th>\n",
       "      <td>1439522</td>\n",
       "      <td>5.0</td>\n",
       "      <td>64.0</td>\n",
       "      <td>32.0</td>\n",
       "      <td>U</td>\n",
       "      <td>2.0</td>\n",
       "      <td>52467.79</td>\n",
       "      <td>6.0</td>\n",
       "      <td>9.0</td>\n",
       "    </tr>\n",
       "    <tr>\n",
       "      <th>3</th>\n",
       "      <td>1562045</td>\n",
       "      <td>16.0</td>\n",
       "      <td>198.0</td>\n",
       "      <td>49.0</td>\n",
       "      <td>M</td>\n",
       "      <td>2.0</td>\n",
       "      <td>67454.65</td>\n",
       "      <td>3.0</td>\n",
       "      <td>6.0</td>\n",
       "    </tr>\n",
       "    <tr>\n",
       "      <th>4</th>\n",
       "      <td>5126305</td>\n",
       "      <td>12.0</td>\n",
       "      <td>145.0</td>\n",
       "      <td>33.0</td>\n",
       "      <td>F</td>\n",
       "      <td>2.0</td>\n",
       "      <td>103671.75</td>\n",
       "      <td>0.0</td>\n",
       "      <td>3.0</td>\n",
       "    </tr>\n",
       "  </tbody>\n",
       "</table>\n",
       "</div>"
      ],
      "text/plain": [
       "   client_id  clnt_tenure_yr  clnt_tenure_mnth  clnt_age gendr  num_accts  \\\n",
       "0     836976             6.0              73.0      60.5     U        2.0   \n",
       "1    2304905             7.0              94.0      58.0     U        2.0   \n",
       "2    1439522             5.0              64.0      32.0     U        2.0   \n",
       "3    1562045            16.0             198.0      49.0     M        2.0   \n",
       "4    5126305            12.0             145.0      33.0     F        2.0   \n",
       "\n",
       "         bal  calls_6_mnth  logons_6_mnth  \n",
       "0   45105.30           6.0            9.0  \n",
       "1  110860.30           6.0            9.0  \n",
       "2   52467.79           6.0            9.0  \n",
       "3   67454.65           3.0            6.0  \n",
       "4  103671.75           0.0            3.0  "
      ]
     },
     "execution_count": 88,
     "metadata": {},
     "output_type": "execute_result"
    }
   ],
   "source": [
    "df_final_demo.head()"
   ]
  },
  {
   "cell_type": "code",
   "execution_count": 89,
   "metadata": {},
   "outputs": [
    {
     "data": {
      "text/plain": [
       "(70609, 9)"
      ]
     },
     "execution_count": 89,
     "metadata": {},
     "output_type": "execute_result"
    }
   ],
   "source": [
    "df_final_demo.shape"
   ]
  },
  {
   "cell_type": "code",
   "execution_count": 90,
   "metadata": {},
   "outputs": [
    {
     "data": {
      "text/plain": [
       "client_id            0\n",
       "clnt_tenure_yr      14\n",
       "clnt_tenure_mnth    14\n",
       "clnt_age            15\n",
       "gendr               14\n",
       "num_accts           14\n",
       "bal                 14\n",
       "calls_6_mnth        14\n",
       "logons_6_mnth       14\n",
       "dtype: int64"
      ]
     },
     "execution_count": 90,
     "metadata": {},
     "output_type": "execute_result"
    }
   ],
   "source": [
    "df_final_demo.isna().sum()"
   ]
  },
  {
   "cell_type": "code",
   "execution_count": 91,
   "metadata": {},
   "outputs": [],
   "source": [
    "df_final_demo.dropna(how='all',inplace =True)"
   ]
  },
  {
   "cell_type": "code",
   "execution_count": 92,
   "metadata": {},
   "outputs": [
    {
     "data": {
      "text/html": [
       "<div>\n",
       "<style scoped>\n",
       "    .dataframe tbody tr th:only-of-type {\n",
       "        vertical-align: middle;\n",
       "    }\n",
       "\n",
       "    .dataframe tbody tr th {\n",
       "        vertical-align: top;\n",
       "    }\n",
       "\n",
       "    .dataframe thead th {\n",
       "        text-align: right;\n",
       "    }\n",
       "</style>\n",
       "<table border=\"1\" class=\"dataframe\">\n",
       "  <thead>\n",
       "    <tr style=\"text-align: right;\">\n",
       "      <th></th>\n",
       "      <th>client_id</th>\n",
       "      <th>clnt_tenure_yr</th>\n",
       "      <th>clnt_tenure_mnth</th>\n",
       "      <th>clnt_age</th>\n",
       "      <th>gendr</th>\n",
       "      <th>num_accts</th>\n",
       "      <th>bal</th>\n",
       "      <th>calls_6_mnth</th>\n",
       "      <th>logons_6_mnth</th>\n",
       "    </tr>\n",
       "  </thead>\n",
       "  <tbody>\n",
       "    <tr>\n",
       "      <th>0</th>\n",
       "      <td>836976</td>\n",
       "      <td>6.0</td>\n",
       "      <td>73.0</td>\n",
       "      <td>60.5</td>\n",
       "      <td>U</td>\n",
       "      <td>2.0</td>\n",
       "      <td>45105.30</td>\n",
       "      <td>6.0</td>\n",
       "      <td>9.0</td>\n",
       "    </tr>\n",
       "    <tr>\n",
       "      <th>1</th>\n",
       "      <td>2304905</td>\n",
       "      <td>7.0</td>\n",
       "      <td>94.0</td>\n",
       "      <td>58.0</td>\n",
       "      <td>U</td>\n",
       "      <td>2.0</td>\n",
       "      <td>110860.30</td>\n",
       "      <td>6.0</td>\n",
       "      <td>9.0</td>\n",
       "    </tr>\n",
       "    <tr>\n",
       "      <th>2</th>\n",
       "      <td>1439522</td>\n",
       "      <td>5.0</td>\n",
       "      <td>64.0</td>\n",
       "      <td>32.0</td>\n",
       "      <td>U</td>\n",
       "      <td>2.0</td>\n",
       "      <td>52467.79</td>\n",
       "      <td>6.0</td>\n",
       "      <td>9.0</td>\n",
       "    </tr>\n",
       "    <tr>\n",
       "      <th>3</th>\n",
       "      <td>1562045</td>\n",
       "      <td>16.0</td>\n",
       "      <td>198.0</td>\n",
       "      <td>49.0</td>\n",
       "      <td>M</td>\n",
       "      <td>2.0</td>\n",
       "      <td>67454.65</td>\n",
       "      <td>3.0</td>\n",
       "      <td>6.0</td>\n",
       "    </tr>\n",
       "    <tr>\n",
       "      <th>4</th>\n",
       "      <td>5126305</td>\n",
       "      <td>12.0</td>\n",
       "      <td>145.0</td>\n",
       "      <td>33.0</td>\n",
       "      <td>F</td>\n",
       "      <td>2.0</td>\n",
       "      <td>103671.75</td>\n",
       "      <td>0.0</td>\n",
       "      <td>3.0</td>\n",
       "    </tr>\n",
       "    <tr>\n",
       "      <th>...</th>\n",
       "      <td>...</td>\n",
       "      <td>...</td>\n",
       "      <td>...</td>\n",
       "      <td>...</td>\n",
       "      <td>...</td>\n",
       "      <td>...</td>\n",
       "      <td>...</td>\n",
       "      <td>...</td>\n",
       "      <td>...</td>\n",
       "    </tr>\n",
       "    <tr>\n",
       "      <th>70604</th>\n",
       "      <td>7993686</td>\n",
       "      <td>4.0</td>\n",
       "      <td>56.0</td>\n",
       "      <td>38.5</td>\n",
       "      <td>U</td>\n",
       "      <td>3.0</td>\n",
       "      <td>1411062.68</td>\n",
       "      <td>5.0</td>\n",
       "      <td>5.0</td>\n",
       "    </tr>\n",
       "    <tr>\n",
       "      <th>70605</th>\n",
       "      <td>8981690</td>\n",
       "      <td>12.0</td>\n",
       "      <td>148.0</td>\n",
       "      <td>31.0</td>\n",
       "      <td>M</td>\n",
       "      <td>2.0</td>\n",
       "      <td>101867.07</td>\n",
       "      <td>6.0</td>\n",
       "      <td>6.0</td>\n",
       "    </tr>\n",
       "    <tr>\n",
       "      <th>70606</th>\n",
       "      <td>333913</td>\n",
       "      <td>16.0</td>\n",
       "      <td>198.0</td>\n",
       "      <td>61.5</td>\n",
       "      <td>F</td>\n",
       "      <td>2.0</td>\n",
       "      <td>40745.00</td>\n",
       "      <td>3.0</td>\n",
       "      <td>3.0</td>\n",
       "    </tr>\n",
       "    <tr>\n",
       "      <th>70607</th>\n",
       "      <td>1573142</td>\n",
       "      <td>21.0</td>\n",
       "      <td>255.0</td>\n",
       "      <td>68.0</td>\n",
       "      <td>M</td>\n",
       "      <td>3.0</td>\n",
       "      <td>475114.69</td>\n",
       "      <td>4.0</td>\n",
       "      <td>4.0</td>\n",
       "    </tr>\n",
       "    <tr>\n",
       "      <th>70608</th>\n",
       "      <td>5602139</td>\n",
       "      <td>21.0</td>\n",
       "      <td>254.0</td>\n",
       "      <td>59.5</td>\n",
       "      <td>F</td>\n",
       "      <td>3.0</td>\n",
       "      <td>157498.73</td>\n",
       "      <td>7.0</td>\n",
       "      <td>7.0</td>\n",
       "    </tr>\n",
       "  </tbody>\n",
       "</table>\n",
       "<p>70609 rows × 9 columns</p>\n",
       "</div>"
      ],
      "text/plain": [
       "       client_id  clnt_tenure_yr  clnt_tenure_mnth  clnt_age gendr  num_accts  \\\n",
       "0         836976             6.0              73.0      60.5     U        2.0   \n",
       "1        2304905             7.0              94.0      58.0     U        2.0   \n",
       "2        1439522             5.0              64.0      32.0     U        2.0   \n",
       "3        1562045            16.0             198.0      49.0     M        2.0   \n",
       "4        5126305            12.0             145.0      33.0     F        2.0   \n",
       "...          ...             ...               ...       ...   ...        ...   \n",
       "70604    7993686             4.0              56.0      38.5     U        3.0   \n",
       "70605    8981690            12.0             148.0      31.0     M        2.0   \n",
       "70606     333913            16.0             198.0      61.5     F        2.0   \n",
       "70607    1573142            21.0             255.0      68.0     M        3.0   \n",
       "70608    5602139            21.0             254.0      59.5     F        3.0   \n",
       "\n",
       "              bal  calls_6_mnth  logons_6_mnth  \n",
       "0        45105.30           6.0            9.0  \n",
       "1       110860.30           6.0            9.0  \n",
       "2        52467.79           6.0            9.0  \n",
       "3        67454.65           3.0            6.0  \n",
       "4       103671.75           0.0            3.0  \n",
       "...           ...           ...            ...  \n",
       "70604  1411062.68           5.0            5.0  \n",
       "70605   101867.07           6.0            6.0  \n",
       "70606    40745.00           3.0            3.0  \n",
       "70607   475114.69           4.0            4.0  \n",
       "70608   157498.73           7.0            7.0  \n",
       "\n",
       "[70609 rows x 9 columns]"
      ]
     },
     "execution_count": 92,
     "metadata": {},
     "output_type": "execute_result"
    }
   ],
   "source": [
    "df_final_demo.drop_duplicates()"
   ]
  },
  {
   "cell_type": "code",
   "execution_count": 93,
   "metadata": {},
   "outputs": [
    {
     "data": {
      "text/plain": [
       "(70609, 9)"
      ]
     },
     "execution_count": 93,
     "metadata": {},
     "output_type": "execute_result"
    }
   ],
   "source": [
    "df_final_demo.shape"
   ]
  },
  {
   "cell_type": "code",
   "execution_count": 94,
   "metadata": {},
   "outputs": [],
   "source": [
    "df_final_demo.rename(columns={\n",
    "    'clnt_tenure_yr': 'fidelity_client_years',\n",
    "    'clnt_tenure_mnth': 'fidelity_client_months',\n",
    "    'clnt_age': 'client_age',\n",
    "    'num_accts': 'number_accounts',\n",
    "    'calls_6_mnth': 'total_calls_last_6_months',\n",
    "    'logons_6_mnth': 'total_logons_last_6_months',\n",
    "    'bal': 'balance',\n",
    "    'gendr':'gender'\n",
    "\n",
    "}, inplace=True) "
   ]
  },
  {
   "cell_type": "code",
   "execution_count": 95,
   "metadata": {},
   "outputs": [
    {
     "data": {
      "text/html": [
       "<div>\n",
       "<style scoped>\n",
       "    .dataframe tbody tr th:only-of-type {\n",
       "        vertical-align: middle;\n",
       "    }\n",
       "\n",
       "    .dataframe tbody tr th {\n",
       "        vertical-align: top;\n",
       "    }\n",
       "\n",
       "    .dataframe thead th {\n",
       "        text-align: right;\n",
       "    }\n",
       "</style>\n",
       "<table border=\"1\" class=\"dataframe\">\n",
       "  <thead>\n",
       "    <tr style=\"text-align: right;\">\n",
       "      <th></th>\n",
       "      <th>client_id</th>\n",
       "      <th>fidelity_client_years</th>\n",
       "      <th>fidelity_client_months</th>\n",
       "      <th>client_age</th>\n",
       "      <th>gender</th>\n",
       "      <th>number_accounts</th>\n",
       "      <th>balance</th>\n",
       "      <th>total_calls_last_6_months</th>\n",
       "      <th>total_logons_last_6_months</th>\n",
       "    </tr>\n",
       "  </thead>\n",
       "  <tbody>\n",
       "    <tr>\n",
       "      <th>4164</th>\n",
       "      <td>7402828</td>\n",
       "      <td>NaN</td>\n",
       "      <td>NaN</td>\n",
       "      <td>NaN</td>\n",
       "      <td>NaN</td>\n",
       "      <td>NaN</td>\n",
       "      <td>NaN</td>\n",
       "      <td>NaN</td>\n",
       "      <td>NaN</td>\n",
       "    </tr>\n",
       "    <tr>\n",
       "      <th>8316</th>\n",
       "      <td>355337</td>\n",
       "      <td>NaN</td>\n",
       "      <td>NaN</td>\n",
       "      <td>NaN</td>\n",
       "      <td>NaN</td>\n",
       "      <td>NaN</td>\n",
       "      <td>NaN</td>\n",
       "      <td>NaN</td>\n",
       "      <td>NaN</td>\n",
       "    </tr>\n",
       "    <tr>\n",
       "      <th>8677</th>\n",
       "      <td>8412164</td>\n",
       "      <td>NaN</td>\n",
       "      <td>NaN</td>\n",
       "      <td>NaN</td>\n",
       "      <td>NaN</td>\n",
       "      <td>NaN</td>\n",
       "      <td>NaN</td>\n",
       "      <td>NaN</td>\n",
       "      <td>NaN</td>\n",
       "    </tr>\n",
       "    <tr>\n",
       "      <th>9583</th>\n",
       "      <td>4666211</td>\n",
       "      <td>8.0</td>\n",
       "      <td>106.0</td>\n",
       "      <td>NaN</td>\n",
       "      <td>F</td>\n",
       "      <td>2.0</td>\n",
       "      <td>42550.55</td>\n",
       "      <td>4.0</td>\n",
       "      <td>7.0</td>\n",
       "    </tr>\n",
       "    <tr>\n",
       "      <th>13444</th>\n",
       "      <td>2222915</td>\n",
       "      <td>NaN</td>\n",
       "      <td>NaN</td>\n",
       "      <td>NaN</td>\n",
       "      <td>NaN</td>\n",
       "      <td>NaN</td>\n",
       "      <td>NaN</td>\n",
       "      <td>NaN</td>\n",
       "      <td>NaN</td>\n",
       "    </tr>\n",
       "    <tr>\n",
       "      <th>18066</th>\n",
       "      <td>4876926</td>\n",
       "      <td>NaN</td>\n",
       "      <td>NaN</td>\n",
       "      <td>NaN</td>\n",
       "      <td>NaN</td>\n",
       "      <td>NaN</td>\n",
       "      <td>NaN</td>\n",
       "      <td>NaN</td>\n",
       "      <td>NaN</td>\n",
       "    </tr>\n",
       "    <tr>\n",
       "      <th>25961</th>\n",
       "      <td>5277910</td>\n",
       "      <td>NaN</td>\n",
       "      <td>NaN</td>\n",
       "      <td>NaN</td>\n",
       "      <td>NaN</td>\n",
       "      <td>NaN</td>\n",
       "      <td>NaN</td>\n",
       "      <td>NaN</td>\n",
       "      <td>NaN</td>\n",
       "    </tr>\n",
       "    <tr>\n",
       "      <th>28432</th>\n",
       "      <td>7616759</td>\n",
       "      <td>NaN</td>\n",
       "      <td>NaN</td>\n",
       "      <td>NaN</td>\n",
       "      <td>NaN</td>\n",
       "      <td>NaN</td>\n",
       "      <td>NaN</td>\n",
       "      <td>NaN</td>\n",
       "      <td>NaN</td>\n",
       "    </tr>\n",
       "    <tr>\n",
       "      <th>35323</th>\n",
       "      <td>8191345</td>\n",
       "      <td>NaN</td>\n",
       "      <td>NaN</td>\n",
       "      <td>NaN</td>\n",
       "      <td>NaN</td>\n",
       "      <td>NaN</td>\n",
       "      <td>NaN</td>\n",
       "      <td>NaN</td>\n",
       "      <td>NaN</td>\n",
       "    </tr>\n",
       "    <tr>\n",
       "      <th>43518</th>\n",
       "      <td>1227228</td>\n",
       "      <td>NaN</td>\n",
       "      <td>NaN</td>\n",
       "      <td>NaN</td>\n",
       "      <td>NaN</td>\n",
       "      <td>NaN</td>\n",
       "      <td>NaN</td>\n",
       "      <td>NaN</td>\n",
       "      <td>NaN</td>\n",
       "    </tr>\n",
       "    <tr>\n",
       "      <th>46076</th>\n",
       "      <td>8611797</td>\n",
       "      <td>NaN</td>\n",
       "      <td>NaN</td>\n",
       "      <td>NaN</td>\n",
       "      <td>NaN</td>\n",
       "      <td>NaN</td>\n",
       "      <td>NaN</td>\n",
       "      <td>NaN</td>\n",
       "      <td>NaN</td>\n",
       "    </tr>\n",
       "    <tr>\n",
       "      <th>47189</th>\n",
       "      <td>5144725</td>\n",
       "      <td>NaN</td>\n",
       "      <td>NaN</td>\n",
       "      <td>NaN</td>\n",
       "      <td>NaN</td>\n",
       "      <td>NaN</td>\n",
       "      <td>NaN</td>\n",
       "      <td>NaN</td>\n",
       "      <td>NaN</td>\n",
       "    </tr>\n",
       "    <tr>\n",
       "      <th>49846</th>\n",
       "      <td>1037867</td>\n",
       "      <td>NaN</td>\n",
       "      <td>NaN</td>\n",
       "      <td>NaN</td>\n",
       "      <td>NaN</td>\n",
       "      <td>NaN</td>\n",
       "      <td>NaN</td>\n",
       "      <td>NaN</td>\n",
       "      <td>NaN</td>\n",
       "    </tr>\n",
       "    <tr>\n",
       "      <th>63701</th>\n",
       "      <td>1618749</td>\n",
       "      <td>NaN</td>\n",
       "      <td>NaN</td>\n",
       "      <td>NaN</td>\n",
       "      <td>NaN</td>\n",
       "      <td>NaN</td>\n",
       "      <td>NaN</td>\n",
       "      <td>NaN</td>\n",
       "      <td>NaN</td>\n",
       "    </tr>\n",
       "    <tr>\n",
       "      <th>66219</th>\n",
       "      <td>6021001</td>\n",
       "      <td>NaN</td>\n",
       "      <td>NaN</td>\n",
       "      <td>NaN</td>\n",
       "      <td>NaN</td>\n",
       "      <td>NaN</td>\n",
       "      <td>NaN</td>\n",
       "      <td>NaN</td>\n",
       "      <td>NaN</td>\n",
       "    </tr>\n",
       "  </tbody>\n",
       "</table>\n",
       "</div>"
      ],
      "text/plain": [
       "       client_id  fidelity_client_years  fidelity_client_months  client_age  \\\n",
       "4164     7402828                    NaN                     NaN         NaN   \n",
       "8316      355337                    NaN                     NaN         NaN   \n",
       "8677     8412164                    NaN                     NaN         NaN   \n",
       "9583     4666211                    8.0                   106.0         NaN   \n",
       "13444    2222915                    NaN                     NaN         NaN   \n",
       "18066    4876926                    NaN                     NaN         NaN   \n",
       "25961    5277910                    NaN                     NaN         NaN   \n",
       "28432    7616759                    NaN                     NaN         NaN   \n",
       "35323    8191345                    NaN                     NaN         NaN   \n",
       "43518    1227228                    NaN                     NaN         NaN   \n",
       "46076    8611797                    NaN                     NaN         NaN   \n",
       "47189    5144725                    NaN                     NaN         NaN   \n",
       "49846    1037867                    NaN                     NaN         NaN   \n",
       "63701    1618749                    NaN                     NaN         NaN   \n",
       "66219    6021001                    NaN                     NaN         NaN   \n",
       "\n",
       "      gender  number_accounts   balance  total_calls_last_6_months  \\\n",
       "4164     NaN              NaN       NaN                        NaN   \n",
       "8316     NaN              NaN       NaN                        NaN   \n",
       "8677     NaN              NaN       NaN                        NaN   \n",
       "9583       F              2.0  42550.55                        4.0   \n",
       "13444    NaN              NaN       NaN                        NaN   \n",
       "18066    NaN              NaN       NaN                        NaN   \n",
       "25961    NaN              NaN       NaN                        NaN   \n",
       "28432    NaN              NaN       NaN                        NaN   \n",
       "35323    NaN              NaN       NaN                        NaN   \n",
       "43518    NaN              NaN       NaN                        NaN   \n",
       "46076    NaN              NaN       NaN                        NaN   \n",
       "47189    NaN              NaN       NaN                        NaN   \n",
       "49846    NaN              NaN       NaN                        NaN   \n",
       "63701    NaN              NaN       NaN                        NaN   \n",
       "66219    NaN              NaN       NaN                        NaN   \n",
       "\n",
       "       total_logons_last_6_months  \n",
       "4164                          NaN  \n",
       "8316                          NaN  \n",
       "8677                          NaN  \n",
       "9583                          7.0  \n",
       "13444                         NaN  \n",
       "18066                         NaN  \n",
       "25961                         NaN  \n",
       "28432                         NaN  \n",
       "35323                         NaN  \n",
       "43518                         NaN  \n",
       "46076                         NaN  \n",
       "47189                         NaN  \n",
       "49846                         NaN  \n",
       "63701                         NaN  \n",
       "66219                         NaN  "
      ]
     },
     "execution_count": 95,
     "metadata": {},
     "output_type": "execute_result"
    }
   ],
   "source": [
    "df_nan = df_final_demo[df_final_demo['client_age'].isna()]\n",
    "df_nan"
   ]
  },
  {
   "cell_type": "code",
   "execution_count": 96,
   "metadata": {},
   "outputs": [
    {
     "data": {
      "text/plain": [
       "array([ 6.,  7.,  5., 16., 12., 30., 15.,  8.,  4.,  3., 10., 11., 13.,\n",
       "       14., 19., 18., 25., 23., 21., 17.,  9., 27., 24., 20., 28., 22.,\n",
       "       29., 46., 26., 32., 33., 35.,  2., 38., 31., 48., 34., 36., 51.,\n",
       "       nan, 47., 49., 37., 39., 40., 55., 42., 44., 43., 50., 54., 41.,\n",
       "       45., 52., 62.])"
      ]
     },
     "execution_count": 96,
     "metadata": {},
     "output_type": "execute_result"
    }
   ],
   "source": [
    "df_final_demo[\"fidelity_client_years\"].unique()"
   ]
  },
  {
   "cell_type": "code",
   "execution_count": 97,
   "metadata": {},
   "outputs": [],
   "source": [
    "df_final_demo['gender'] = df_final_demo['gender'].replace('X', 'U')"
   ]
  },
  {
   "cell_type": "code",
   "execution_count": 98,
   "metadata": {},
   "outputs": [
    {
     "data": {
      "text/plain": [
       "client_id                     0\n",
       "fidelity_client_years         0\n",
       "fidelity_client_months        0\n",
       "client_age                    0\n",
       "gender                        0\n",
       "number_accounts               0\n",
       "balance                       0\n",
       "total_calls_last_6_months     0\n",
       "total_logons_last_6_months    0\n",
       "dtype: int64"
      ]
     },
     "execution_count": 98,
     "metadata": {},
     "output_type": "execute_result"
    }
   ],
   "source": [
    "df_final_demo.dropna(subset=['client_age'], inplace=True)\n",
    "df_final_demo.isna().sum()"
   ]
  },
  {
   "cell_type": "code",
   "execution_count": 99,
   "metadata": {},
   "outputs": [
    {
     "data": {
      "text/html": [
       "<div>\n",
       "<style scoped>\n",
       "    .dataframe tbody tr th:only-of-type {\n",
       "        vertical-align: middle;\n",
       "    }\n",
       "\n",
       "    .dataframe tbody tr th {\n",
       "        vertical-align: top;\n",
       "    }\n",
       "\n",
       "    .dataframe thead th {\n",
       "        text-align: right;\n",
       "    }\n",
       "</style>\n",
       "<table border=\"1\" class=\"dataframe\">\n",
       "  <thead>\n",
       "    <tr style=\"text-align: right;\">\n",
       "      <th></th>\n",
       "      <th>client_id</th>\n",
       "      <th>fidelity_client_years</th>\n",
       "      <th>fidelity_client_months</th>\n",
       "      <th>client_age</th>\n",
       "      <th>gender</th>\n",
       "      <th>number_accounts</th>\n",
       "      <th>balance</th>\n",
       "      <th>total_calls_last_6_months</th>\n",
       "      <th>total_logons_last_6_months</th>\n",
       "    </tr>\n",
       "  </thead>\n",
       "  <tbody>\n",
       "    <tr>\n",
       "      <th>0</th>\n",
       "      <td>836976</td>\n",
       "      <td>6.0</td>\n",
       "      <td>73.0</td>\n",
       "      <td>60.5</td>\n",
       "      <td>U</td>\n",
       "      <td>2.0</td>\n",
       "      <td>45105.30</td>\n",
       "      <td>6.0</td>\n",
       "      <td>9.0</td>\n",
       "    </tr>\n",
       "    <tr>\n",
       "      <th>1</th>\n",
       "      <td>2304905</td>\n",
       "      <td>7.0</td>\n",
       "      <td>94.0</td>\n",
       "      <td>58.0</td>\n",
       "      <td>U</td>\n",
       "      <td>2.0</td>\n",
       "      <td>110860.30</td>\n",
       "      <td>6.0</td>\n",
       "      <td>9.0</td>\n",
       "    </tr>\n",
       "    <tr>\n",
       "      <th>2</th>\n",
       "      <td>1439522</td>\n",
       "      <td>5.0</td>\n",
       "      <td>64.0</td>\n",
       "      <td>32.0</td>\n",
       "      <td>U</td>\n",
       "      <td>2.0</td>\n",
       "      <td>52467.79</td>\n",
       "      <td>6.0</td>\n",
       "      <td>9.0</td>\n",
       "    </tr>\n",
       "    <tr>\n",
       "      <th>3</th>\n",
       "      <td>1562045</td>\n",
       "      <td>16.0</td>\n",
       "      <td>198.0</td>\n",
       "      <td>49.0</td>\n",
       "      <td>M</td>\n",
       "      <td>2.0</td>\n",
       "      <td>67454.65</td>\n",
       "      <td>3.0</td>\n",
       "      <td>6.0</td>\n",
       "    </tr>\n",
       "    <tr>\n",
       "      <th>4</th>\n",
       "      <td>5126305</td>\n",
       "      <td>12.0</td>\n",
       "      <td>145.0</td>\n",
       "      <td>33.0</td>\n",
       "      <td>F</td>\n",
       "      <td>2.0</td>\n",
       "      <td>103671.75</td>\n",
       "      <td>0.0</td>\n",
       "      <td>3.0</td>\n",
       "    </tr>\n",
       "    <tr>\n",
       "      <th>...</th>\n",
       "      <td>...</td>\n",
       "      <td>...</td>\n",
       "      <td>...</td>\n",
       "      <td>...</td>\n",
       "      <td>...</td>\n",
       "      <td>...</td>\n",
       "      <td>...</td>\n",
       "      <td>...</td>\n",
       "      <td>...</td>\n",
       "    </tr>\n",
       "    <tr>\n",
       "      <th>70604</th>\n",
       "      <td>7993686</td>\n",
       "      <td>4.0</td>\n",
       "      <td>56.0</td>\n",
       "      <td>38.5</td>\n",
       "      <td>U</td>\n",
       "      <td>3.0</td>\n",
       "      <td>1411062.68</td>\n",
       "      <td>5.0</td>\n",
       "      <td>5.0</td>\n",
       "    </tr>\n",
       "    <tr>\n",
       "      <th>70605</th>\n",
       "      <td>8981690</td>\n",
       "      <td>12.0</td>\n",
       "      <td>148.0</td>\n",
       "      <td>31.0</td>\n",
       "      <td>M</td>\n",
       "      <td>2.0</td>\n",
       "      <td>101867.07</td>\n",
       "      <td>6.0</td>\n",
       "      <td>6.0</td>\n",
       "    </tr>\n",
       "    <tr>\n",
       "      <th>70606</th>\n",
       "      <td>333913</td>\n",
       "      <td>16.0</td>\n",
       "      <td>198.0</td>\n",
       "      <td>61.5</td>\n",
       "      <td>F</td>\n",
       "      <td>2.0</td>\n",
       "      <td>40745.00</td>\n",
       "      <td>3.0</td>\n",
       "      <td>3.0</td>\n",
       "    </tr>\n",
       "    <tr>\n",
       "      <th>70607</th>\n",
       "      <td>1573142</td>\n",
       "      <td>21.0</td>\n",
       "      <td>255.0</td>\n",
       "      <td>68.0</td>\n",
       "      <td>M</td>\n",
       "      <td>3.0</td>\n",
       "      <td>475114.69</td>\n",
       "      <td>4.0</td>\n",
       "      <td>4.0</td>\n",
       "    </tr>\n",
       "    <tr>\n",
       "      <th>70608</th>\n",
       "      <td>5602139</td>\n",
       "      <td>21.0</td>\n",
       "      <td>254.0</td>\n",
       "      <td>59.5</td>\n",
       "      <td>F</td>\n",
       "      <td>3.0</td>\n",
       "      <td>157498.73</td>\n",
       "      <td>7.0</td>\n",
       "      <td>7.0</td>\n",
       "    </tr>\n",
       "  </tbody>\n",
       "</table>\n",
       "<p>70594 rows × 9 columns</p>\n",
       "</div>"
      ],
      "text/plain": [
       "       client_id  fidelity_client_years  fidelity_client_months  client_age  \\\n",
       "0         836976                    6.0                    73.0        60.5   \n",
       "1        2304905                    7.0                    94.0        58.0   \n",
       "2        1439522                    5.0                    64.0        32.0   \n",
       "3        1562045                   16.0                   198.0        49.0   \n",
       "4        5126305                   12.0                   145.0        33.0   \n",
       "...          ...                    ...                     ...         ...   \n",
       "70604    7993686                    4.0                    56.0        38.5   \n",
       "70605    8981690                   12.0                   148.0        31.0   \n",
       "70606     333913                   16.0                   198.0        61.5   \n",
       "70607    1573142                   21.0                   255.0        68.0   \n",
       "70608    5602139                   21.0                   254.0        59.5   \n",
       "\n",
       "      gender  number_accounts     balance  total_calls_last_6_months  \\\n",
       "0          U              2.0    45105.30                        6.0   \n",
       "1          U              2.0   110860.30                        6.0   \n",
       "2          U              2.0    52467.79                        6.0   \n",
       "3          M              2.0    67454.65                        3.0   \n",
       "4          F              2.0   103671.75                        0.0   \n",
       "...      ...              ...         ...                        ...   \n",
       "70604      U              3.0  1411062.68                        5.0   \n",
       "70605      M              2.0   101867.07                        6.0   \n",
       "70606      F              2.0    40745.00                        3.0   \n",
       "70607      M              3.0   475114.69                        4.0   \n",
       "70608      F              3.0   157498.73                        7.0   \n",
       "\n",
       "       total_logons_last_6_months  \n",
       "0                             9.0  \n",
       "1                             9.0  \n",
       "2                             9.0  \n",
       "3                             6.0  \n",
       "4                             3.0  \n",
       "...                           ...  \n",
       "70604                         5.0  \n",
       "70605                         6.0  \n",
       "70606                         3.0  \n",
       "70607                         4.0  \n",
       "70608                         7.0  \n",
       "\n",
       "[70594 rows x 9 columns]"
      ]
     },
     "execution_count": 99,
     "metadata": {},
     "output_type": "execute_result"
    }
   ],
   "source": [
    "df_final_demo"
   ]
  },
  {
   "cell_type": "code",
   "execution_count": 100,
   "metadata": {},
   "outputs": [
    {
     "data": {
      "text/html": [
       "<div>\n",
       "<style scoped>\n",
       "    .dataframe tbody tr th:only-of-type {\n",
       "        vertical-align: middle;\n",
       "    }\n",
       "\n",
       "    .dataframe tbody tr th {\n",
       "        vertical-align: top;\n",
       "    }\n",
       "\n",
       "    .dataframe thead th {\n",
       "        text-align: right;\n",
       "    }\n",
       "</style>\n",
       "<table border=\"1\" class=\"dataframe\">\n",
       "  <thead>\n",
       "    <tr style=\"text-align: right;\">\n",
       "      <th></th>\n",
       "      <th>client_id</th>\n",
       "      <th>fidelity_client_years</th>\n",
       "      <th>fidelity_client_months</th>\n",
       "      <th>client_age</th>\n",
       "      <th>number_accounts</th>\n",
       "      <th>balance</th>\n",
       "      <th>total_calls_last_6_months</th>\n",
       "      <th>total_logons_last_6_months</th>\n",
       "    </tr>\n",
       "  </thead>\n",
       "  <tbody>\n",
       "    <tr>\n",
       "      <th>count</th>\n",
       "      <td>7.059400e+04</td>\n",
       "      <td>70594.000000</td>\n",
       "      <td>70594.000000</td>\n",
       "      <td>70594.000000</td>\n",
       "      <td>70594.000000</td>\n",
       "      <td>7.059400e+04</td>\n",
       "      <td>70594.000000</td>\n",
       "      <td>70594.000000</td>\n",
       "    </tr>\n",
       "    <tr>\n",
       "      <th>mean</th>\n",
       "      <td>5.005026e+06</td>\n",
       "      <td>12.053007</td>\n",
       "      <td>150.659999</td>\n",
       "      <td>46.442240</td>\n",
       "      <td>2.255532</td>\n",
       "      <td>1.474467e+05</td>\n",
       "      <td>3.382469</td>\n",
       "      <td>5.566720</td>\n",
       "    </tr>\n",
       "    <tr>\n",
       "      <th>std</th>\n",
       "      <td>2.877289e+06</td>\n",
       "      <td>6.871850</td>\n",
       "      <td>82.090264</td>\n",
       "      <td>15.591273</td>\n",
       "      <td>0.535000</td>\n",
       "      <td>3.015106e+05</td>\n",
       "      <td>2.236595</td>\n",
       "      <td>2.353296</td>\n",
       "    </tr>\n",
       "    <tr>\n",
       "      <th>min</th>\n",
       "      <td>1.690000e+02</td>\n",
       "      <td>2.000000</td>\n",
       "      <td>33.000000</td>\n",
       "      <td>13.500000</td>\n",
       "      <td>1.000000</td>\n",
       "      <td>1.378942e+04</td>\n",
       "      <td>0.000000</td>\n",
       "      <td>1.000000</td>\n",
       "    </tr>\n",
       "    <tr>\n",
       "      <th>25%</th>\n",
       "      <td>2.519543e+06</td>\n",
       "      <td>6.000000</td>\n",
       "      <td>82.000000</td>\n",
       "      <td>32.500000</td>\n",
       "      <td>2.000000</td>\n",
       "      <td>3.734660e+04</td>\n",
       "      <td>1.000000</td>\n",
       "      <td>4.000000</td>\n",
       "    </tr>\n",
       "    <tr>\n",
       "      <th>50%</th>\n",
       "      <td>5.016974e+06</td>\n",
       "      <td>11.000000</td>\n",
       "      <td>136.000000</td>\n",
       "      <td>47.000000</td>\n",
       "      <td>2.000000</td>\n",
       "      <td>6.333459e+04</td>\n",
       "      <td>3.000000</td>\n",
       "      <td>5.000000</td>\n",
       "    </tr>\n",
       "    <tr>\n",
       "      <th>75%</th>\n",
       "      <td>7.483074e+06</td>\n",
       "      <td>16.000000</td>\n",
       "      <td>192.000000</td>\n",
       "      <td>59.000000</td>\n",
       "      <td>2.000000</td>\n",
       "      <td>1.375461e+05</td>\n",
       "      <td>6.000000</td>\n",
       "      <td>7.000000</td>\n",
       "    </tr>\n",
       "    <tr>\n",
       "      <th>max</th>\n",
       "      <td>9.999839e+06</td>\n",
       "      <td>62.000000</td>\n",
       "      <td>749.000000</td>\n",
       "      <td>96.000000</td>\n",
       "      <td>8.000000</td>\n",
       "      <td>1.632004e+07</td>\n",
       "      <td>7.000000</td>\n",
       "      <td>9.000000</td>\n",
       "    </tr>\n",
       "  </tbody>\n",
       "</table>\n",
       "</div>"
      ],
      "text/plain": [
       "          client_id  fidelity_client_years  fidelity_client_months  \\\n",
       "count  7.059400e+04           70594.000000            70594.000000   \n",
       "mean   5.005026e+06              12.053007              150.659999   \n",
       "std    2.877289e+06               6.871850               82.090264   \n",
       "min    1.690000e+02               2.000000               33.000000   \n",
       "25%    2.519543e+06               6.000000               82.000000   \n",
       "50%    5.016974e+06              11.000000              136.000000   \n",
       "75%    7.483074e+06              16.000000              192.000000   \n",
       "max    9.999839e+06              62.000000              749.000000   \n",
       "\n",
       "         client_age  number_accounts       balance  total_calls_last_6_months  \\\n",
       "count  70594.000000     70594.000000  7.059400e+04               70594.000000   \n",
       "mean      46.442240         2.255532  1.474467e+05                   3.382469   \n",
       "std       15.591273         0.535000  3.015106e+05                   2.236595   \n",
       "min       13.500000         1.000000  1.378942e+04                   0.000000   \n",
       "25%       32.500000         2.000000  3.734660e+04                   1.000000   \n",
       "50%       47.000000         2.000000  6.333459e+04                   3.000000   \n",
       "75%       59.000000         2.000000  1.375461e+05                   6.000000   \n",
       "max       96.000000         8.000000  1.632004e+07                   7.000000   \n",
       "\n",
       "       total_logons_last_6_months  \n",
       "count                70594.000000  \n",
       "mean                     5.566720  \n",
       "std                      2.353296  \n",
       "min                      1.000000  \n",
       "25%                      4.000000  \n",
       "50%                      5.000000  \n",
       "75%                      7.000000  \n",
       "max                      9.000000  "
      ]
     },
     "execution_count": 100,
     "metadata": {},
     "output_type": "execute_result"
    }
   ],
   "source": [
    "df_final_demo.describe()"
   ]
  },
  {
   "cell_type": "code",
   "execution_count": 101,
   "metadata": {},
   "outputs": [],
   "source": [
    "df_final_demo.drop(columns='fidelity_client_months', inplace=True)"
   ]
  },
  {
   "cell_type": "markdown",
   "metadata": {},
   "source": [
    "Classify Age"
   ]
  },
  {
   "cell_type": "code",
   "execution_count": 102,
   "metadata": {},
   "outputs": [],
   "source": [
    "def classify_age(client_age):\n",
    "    if client_age <= 30:\n",
    "        return 'young'\n",
    "    elif 30 < client_age < 60:\n",
    "        return 'adult'\n",
    "    elif client_age >= 60:\n",
    "        return 'senior'\n",
    "    else:\n",
    "        return 'unknown'\n",
    "\n",
    "# Aplicar la función a la columna 'client_age' para crear una nueva columna\n",
    "df_final_demo['client_age_group'] = df_final_demo['client_age'].apply(classify_age)"
   ]
  },
  {
   "cell_type": "code",
   "execution_count": 177,
   "metadata": {},
   "outputs": [
    {
     "data": {
      "text/html": [
       "<div>\n",
       "<style scoped>\n",
       "    .dataframe tbody tr th:only-of-type {\n",
       "        vertical-align: middle;\n",
       "    }\n",
       "\n",
       "    .dataframe tbody tr th {\n",
       "        vertical-align: top;\n",
       "    }\n",
       "\n",
       "    .dataframe thead th {\n",
       "        text-align: right;\n",
       "    }\n",
       "</style>\n",
       "<table border=\"1\" class=\"dataframe\">\n",
       "  <thead>\n",
       "    <tr style=\"text-align: right;\">\n",
       "      <th></th>\n",
       "      <th>client_id</th>\n",
       "      <th>fidelity_client_years</th>\n",
       "      <th>client_age</th>\n",
       "      <th>gender</th>\n",
       "      <th>number_accounts</th>\n",
       "      <th>balance</th>\n",
       "      <th>total_calls_last_6_months</th>\n",
       "      <th>total_logons_last_6_months</th>\n",
       "      <th>client_age_group</th>\n",
       "      <th>fidelity_group</th>\n",
       "      <th>balance_group</th>\n",
       "    </tr>\n",
       "  </thead>\n",
       "  <tbody>\n",
       "    <tr>\n",
       "      <th>0</th>\n",
       "      <td>836976</td>\n",
       "      <td>6.0</td>\n",
       "      <td>60.5</td>\n",
       "      <td>U</td>\n",
       "      <td>2.0</td>\n",
       "      <td>45105.30</td>\n",
       "      <td>6.0</td>\n",
       "      <td>9.0</td>\n",
       "      <td>senior</td>\n",
       "      <td>regular</td>\n",
       "      <td>bronze</td>\n",
       "    </tr>\n",
       "    <tr>\n",
       "      <th>1</th>\n",
       "      <td>2304905</td>\n",
       "      <td>7.0</td>\n",
       "      <td>58.0</td>\n",
       "      <td>U</td>\n",
       "      <td>2.0</td>\n",
       "      <td>110860.30</td>\n",
       "      <td>6.0</td>\n",
       "      <td>9.0</td>\n",
       "      <td>adult</td>\n",
       "      <td>regular</td>\n",
       "      <td>silver</td>\n",
       "    </tr>\n",
       "    <tr>\n",
       "      <th>2</th>\n",
       "      <td>1439522</td>\n",
       "      <td>5.0</td>\n",
       "      <td>32.0</td>\n",
       "      <td>U</td>\n",
       "      <td>2.0</td>\n",
       "      <td>52467.79</td>\n",
       "      <td>6.0</td>\n",
       "      <td>9.0</td>\n",
       "      <td>adult</td>\n",
       "      <td>new</td>\n",
       "      <td>silver</td>\n",
       "    </tr>\n",
       "    <tr>\n",
       "      <th>3</th>\n",
       "      <td>1562045</td>\n",
       "      <td>16.0</td>\n",
       "      <td>49.0</td>\n",
       "      <td>M</td>\n",
       "      <td>2.0</td>\n",
       "      <td>67454.65</td>\n",
       "      <td>3.0</td>\n",
       "      <td>6.0</td>\n",
       "      <td>adult</td>\n",
       "      <td>premium</td>\n",
       "      <td>silver</td>\n",
       "    </tr>\n",
       "    <tr>\n",
       "      <th>4</th>\n",
       "      <td>5126305</td>\n",
       "      <td>12.0</td>\n",
       "      <td>33.0</td>\n",
       "      <td>F</td>\n",
       "      <td>2.0</td>\n",
       "      <td>103671.75</td>\n",
       "      <td>0.0</td>\n",
       "      <td>3.0</td>\n",
       "      <td>adult</td>\n",
       "      <td>regular</td>\n",
       "      <td>silver</td>\n",
       "    </tr>\n",
       "    <tr>\n",
       "      <th>...</th>\n",
       "      <td>...</td>\n",
       "      <td>...</td>\n",
       "      <td>...</td>\n",
       "      <td>...</td>\n",
       "      <td>...</td>\n",
       "      <td>...</td>\n",
       "      <td>...</td>\n",
       "      <td>...</td>\n",
       "      <td>...</td>\n",
       "      <td>...</td>\n",
       "      <td>...</td>\n",
       "    </tr>\n",
       "    <tr>\n",
       "      <th>70604</th>\n",
       "      <td>7993686</td>\n",
       "      <td>4.0</td>\n",
       "      <td>38.5</td>\n",
       "      <td>U</td>\n",
       "      <td>3.0</td>\n",
       "      <td>1411062.68</td>\n",
       "      <td>5.0</td>\n",
       "      <td>5.0</td>\n",
       "      <td>adult</td>\n",
       "      <td>new</td>\n",
       "      <td>platinum</td>\n",
       "    </tr>\n",
       "    <tr>\n",
       "      <th>70605</th>\n",
       "      <td>8981690</td>\n",
       "      <td>12.0</td>\n",
       "      <td>31.0</td>\n",
       "      <td>M</td>\n",
       "      <td>2.0</td>\n",
       "      <td>101867.07</td>\n",
       "      <td>6.0</td>\n",
       "      <td>6.0</td>\n",
       "      <td>adult</td>\n",
       "      <td>regular</td>\n",
       "      <td>silver</td>\n",
       "    </tr>\n",
       "    <tr>\n",
       "      <th>70606</th>\n",
       "      <td>333913</td>\n",
       "      <td>16.0</td>\n",
       "      <td>61.5</td>\n",
       "      <td>F</td>\n",
       "      <td>2.0</td>\n",
       "      <td>40745.00</td>\n",
       "      <td>3.0</td>\n",
       "      <td>3.0</td>\n",
       "      <td>senior</td>\n",
       "      <td>premium</td>\n",
       "      <td>bronze</td>\n",
       "    </tr>\n",
       "    <tr>\n",
       "      <th>70607</th>\n",
       "      <td>1573142</td>\n",
       "      <td>21.0</td>\n",
       "      <td>68.0</td>\n",
       "      <td>M</td>\n",
       "      <td>3.0</td>\n",
       "      <td>475114.69</td>\n",
       "      <td>4.0</td>\n",
       "      <td>4.0</td>\n",
       "      <td>senior</td>\n",
       "      <td>premium</td>\n",
       "      <td>gold</td>\n",
       "    </tr>\n",
       "    <tr>\n",
       "      <th>70608</th>\n",
       "      <td>5602139</td>\n",
       "      <td>21.0</td>\n",
       "      <td>59.5</td>\n",
       "      <td>F</td>\n",
       "      <td>3.0</td>\n",
       "      <td>157498.73</td>\n",
       "      <td>7.0</td>\n",
       "      <td>7.0</td>\n",
       "      <td>adult</td>\n",
       "      <td>premium</td>\n",
       "      <td>silver</td>\n",
       "    </tr>\n",
       "  </tbody>\n",
       "</table>\n",
       "<p>70594 rows × 11 columns</p>\n",
       "</div>"
      ],
      "text/plain": [
       "       client_id  fidelity_client_years  client_age gender  number_accounts  \\\n",
       "0         836976                    6.0        60.5      U              2.0   \n",
       "1        2304905                    7.0        58.0      U              2.0   \n",
       "2        1439522                    5.0        32.0      U              2.0   \n",
       "3        1562045                   16.0        49.0      M              2.0   \n",
       "4        5126305                   12.0        33.0      F              2.0   \n",
       "...          ...                    ...         ...    ...              ...   \n",
       "70604    7993686                    4.0        38.5      U              3.0   \n",
       "70605    8981690                   12.0        31.0      M              2.0   \n",
       "70606     333913                   16.0        61.5      F              2.0   \n",
       "70607    1573142                   21.0        68.0      M              3.0   \n",
       "70608    5602139                   21.0        59.5      F              3.0   \n",
       "\n",
       "          balance  total_calls_last_6_months  total_logons_last_6_months  \\\n",
       "0        45105.30                        6.0                         9.0   \n",
       "1       110860.30                        6.0                         9.0   \n",
       "2        52467.79                        6.0                         9.0   \n",
       "3        67454.65                        3.0                         6.0   \n",
       "4       103671.75                        0.0                         3.0   \n",
       "...           ...                        ...                         ...   \n",
       "70604  1411062.68                        5.0                         5.0   \n",
       "70605   101867.07                        6.0                         6.0   \n",
       "70606    40745.00                        3.0                         3.0   \n",
       "70607   475114.69                        4.0                         4.0   \n",
       "70608   157498.73                        7.0                         7.0   \n",
       "\n",
       "      client_age_group fidelity_group balance_group  \n",
       "0               senior        regular        bronze  \n",
       "1                adult        regular        silver  \n",
       "2                adult            new        silver  \n",
       "3                adult        premium        silver  \n",
       "4                adult        regular        silver  \n",
       "...                ...            ...           ...  \n",
       "70604            adult            new      platinum  \n",
       "70605            adult        regular        silver  \n",
       "70606           senior        premium        bronze  \n",
       "70607           senior        premium          gold  \n",
       "70608            adult        premium        silver  \n",
       "\n",
       "[70594 rows x 11 columns]"
      ]
     },
     "execution_count": 177,
     "metadata": {},
     "output_type": "execute_result"
    }
   ],
   "source": [
    "df_final_demo"
   ]
  },
  {
   "cell_type": "code",
   "execution_count": 104,
   "metadata": {},
   "outputs": [
    {
     "data": {
      "text/plain": [
       "np.float64(13.5)"
      ]
     },
     "execution_count": 104,
     "metadata": {},
     "output_type": "execute_result"
    }
   ],
   "source": [
    "df_final_demo[\"client_age\"].min()"
   ]
  },
  {
   "cell_type": "code",
   "execution_count": 105,
   "metadata": {},
   "outputs": [
    {
     "data": {
      "text/plain": [
       "np.float64(96.0)"
      ]
     },
     "execution_count": 105,
     "metadata": {},
     "output_type": "execute_result"
    }
   ],
   "source": [
    "df_final_demo[\"client_age\"].max()"
   ]
  },
  {
   "cell_type": "code",
   "execution_count": 106,
   "metadata": {},
   "outputs": [
    {
     "data": {
      "text/plain": [
       "client_age_group\n",
       "adult     40351\n",
       "senior    16219\n",
       "young     14024\n",
       "Name: count, dtype: int64"
      ]
     },
     "execution_count": 106,
     "metadata": {},
     "output_type": "execute_result"
    }
   ],
   "source": [
    "df_final_demo['client_age_group'].value_counts()"
   ]
  },
  {
   "cell_type": "code",
   "execution_count": 107,
   "metadata": {},
   "outputs": [
    {
     "data": {
      "image/png": "[encoded data removed]",
      "text/plain": [
       "<Figure size 640x480 with 1 Axes>"
      ]
     },
     "metadata": {},
     "output_type": "display_data"
    },
    {
     "name": "stdout",
     "output_type": "stream",
     "text": [
      "count    70594.000000\n",
      "mean        46.442240\n",
      "std         15.591273\n",
      "min         13.500000\n",
      "25%         32.500000\n",
      "50%         47.000000\n",
      "75%         59.000000\n",
      "max         96.000000\n",
      "Name: client_age, dtype: float64\n"
     ]
    }
   ],
   "source": [
    "sns.histplot(df_final_demo['client_age'], kde=True)\n",
    "plt.title('Distribución de la Edad de los Clientes')\n",
    "plt.xlabel('Edad')\n",
    "plt.ylabel('Frecuencia')\n",
    "plt.show()\n",
    "\n",
    "# Estadísticas descriptivas de la edad\n",
    "print(df_final_demo['client_age'].describe())"
   ]
  },
  {
   "cell_type": "code",
   "execution_count": 108,
   "metadata": {},
   "outputs": [
    {
     "data": {
      "image/png": "[encoded data removed]",
      "text/plain": [
       "<Figure size 640x480 with 1 Axes>"
      ]
     },
     "metadata": {},
     "output_type": "display_data"
    },
    {
     "name": "stdout",
     "output_type": "stream",
     "text": [
      "count    70594.000000\n",
      "mean        46.442240\n",
      "std         15.591273\n",
      "min         13.500000\n",
      "25%         32.500000\n",
      "50%         47.000000\n",
      "75%         59.000000\n",
      "max         96.000000\n",
      "Name: client_age, dtype: float64\n"
     ]
    }
   ],
   "source": [
    "sns.histplot(df_final_demo['client_age_group'])\n",
    "plt.title('Distribución de la Edad de los Clientes')\n",
    "plt.xlabel('Edad')\n",
    "plt.ylabel('Frecuencia')\n",
    "plt.show()\n",
    "\n",
    "# Estadísticas descriptivas de la edad\n",
    "print(df_final_demo['client_age'].describe())"
   ]
  },
  {
   "cell_type": "markdown",
   "metadata": {},
   "source": [
    "Classify fidelity years"
   ]
  },
  {
   "cell_type": "code",
   "execution_count": 109,
   "metadata": {},
   "outputs": [
    {
     "data": {
      "text/plain": [
       "array([ 6.,  7.,  5., 16., 12., 30., 15.,  8.,  4.,  3., 10., 11., 13.,\n",
       "       14., 19., 18., 25., 23., 21., 17.,  9., 27., 24., 20., 28., 22.,\n",
       "       29., 46., 26., 32., 33., 35.,  2., 38., 31., 48., 34., 36., 51.,\n",
       "       47., 49., 37., 39., 40., 55., 42., 44., 43., 50., 54., 41., 45.,\n",
       "       52., 62.])"
      ]
     },
     "execution_count": 109,
     "metadata": {},
     "output_type": "execute_result"
    }
   ],
   "source": [
    "df_final_demo['fidelity_client_years'].unique()"
   ]
  },
  {
   "cell_type": "code",
   "execution_count": 110,
   "metadata": {},
   "outputs": [],
   "source": [
    "def classify_fidelity_years(fidelity):\n",
    "    if fidelity <= 5:\n",
    "        return 'new'\n",
    "    elif  6<= fidelity <=15 :\n",
    "        return 'regular'\n",
    "    elif fidelity >= 16:\n",
    "        return 'premium'\n",
    "    else:\n",
    "        return 'unknown'\n",
    "\n",
    "# Aplicar la función a la columna 'client_age' para crear una nueva columna\n",
    "df_final_demo['fidelity_group'] = df_final_demo['fidelity_client_years'].apply(classify_fidelity_years)"
   ]
  },
  {
   "cell_type": "code",
   "execution_count": 111,
   "metadata": {},
   "outputs": [
    {
     "data": {
      "text/plain": [
       "array(['regular', 'new', 'premium'], dtype=object)"
      ]
     },
     "execution_count": 111,
     "metadata": {},
     "output_type": "execute_result"
    }
   ],
   "source": [
    "df_final_demo[\"fidelity_group\"].unique()"
   ]
  },
  {
   "cell_type": "code",
   "execution_count": 112,
   "metadata": {},
   "outputs": [
    {
     "data": {
      "text/plain": [
       "fidelity_group\n",
       "regular    40591\n",
       "premium    17831\n",
       "new        12172\n",
       "Name: count, dtype: int64"
      ]
     },
     "execution_count": 112,
     "metadata": {},
     "output_type": "execute_result"
    }
   ],
   "source": [
    "df_final_demo['fidelity_group'].value_counts()"
   ]
  },
  {
   "cell_type": "code",
   "execution_count": 113,
   "metadata": {},
   "outputs": [
    {
     "data": {
      "image/png": "[encoded data removed]",
      "text/plain": [
       "<Figure size 640x480 with 1 Axes>"
      ]
     },
     "metadata": {},
     "output_type": "display_data"
    },
    {
     "name": "stdout",
     "output_type": "stream",
     "text": [
      "count    70594.000000\n",
      "mean        12.053007\n",
      "std          6.871850\n",
      "min          2.000000\n",
      "25%          6.000000\n",
      "50%         11.000000\n",
      "75%         16.000000\n",
      "max         62.000000\n",
      "Name: fidelity_client_years, dtype: float64\n"
     ]
    }
   ],
   "source": [
    "sns.histplot(df_final_demo['fidelity_group'])\n",
    "plt.title('Distribución de la Fidelidad de los Clientes')\n",
    "plt.xlabel('Fidelidad')\n",
    "plt.ylabel('Frecuencia')\n",
    "plt.show()\n",
    "\n",
    "# Estadísticas descriptivas de la edad\n",
    "print(df_final_demo['fidelity_client_years'].describe())"
   ]
  },
  {
   "cell_type": "markdown",
   "metadata": {},
   "source": [
    "Classify balance"
   ]
  },
  {
   "cell_type": "code",
   "execution_count": 114,
   "metadata": {},
   "outputs": [
    {
     "data": {
      "text/plain": [
       "np.float64(16320040.15)"
      ]
     },
     "execution_count": 114,
     "metadata": {},
     "output_type": "execute_result"
    }
   ],
   "source": [
    "df_final_demo['balance'].max()"
   ]
  },
  {
   "cell_type": "code",
   "execution_count": 115,
   "metadata": {},
   "outputs": [
    {
     "data": {
      "text/plain": [
       "np.float64(13789.419999999998)"
      ]
     },
     "execution_count": 115,
     "metadata": {},
     "output_type": "execute_result"
    }
   ],
   "source": [
    "df_final_demo['balance'].min()"
   ]
  },
  {
   "cell_type": "code",
   "execution_count": 116,
   "metadata": {},
   "outputs": [],
   "source": [
    "def classify_balance(balance):\n",
    "    if balance <= 50000:\n",
    "        return 'bronze'\n",
    "    elif 50000 < balance <= 200000:\n",
    "        return 'silver'\n",
    "    elif 200000 < balance <= 1000000:\n",
    "        return 'gold'\n",
    "    elif balance > 1000000:\n",
    "        return 'platinum'\n",
    "    else:\n",
    "        return 'unknown'\n",
    "\n",
    "# Aplicar la función a la columna 'balance' para crear una nueva columna\n",
    "df_final_demo['balance_group'] = df_final_demo['balance'].apply(classify_balance)\n"
   ]
  },
  {
   "cell_type": "code",
   "execution_count": 117,
   "metadata": {},
   "outputs": [
    {
     "data": {
      "text/plain": [
       "balance_group\n",
       "silver      30892\n",
       "bronze      27649\n",
       "gold        10875\n",
       "platinum     1178\n",
       "Name: count, dtype: int64"
      ]
     },
     "execution_count": 117,
     "metadata": {},
     "output_type": "execute_result"
    }
   ],
   "source": [
    "df_final_demo['balance_group'].value_counts()"
   ]
  },
  {
   "cell_type": "code",
   "execution_count": 118,
   "metadata": {},
   "outputs": [
    {
     "data": {
      "image/png": "[encoded data removed]",
      "text/plain": [
       "<Figure size 640x480 with 1 Axes>"
      ]
     },
     "metadata": {},
     "output_type": "display_data"
    },
    {
     "name": "stdout",
     "output_type": "stream",
     "text": [
      "count    7.059400e+04\n",
      "mean     1.474467e+05\n",
      "std      3.015106e+05\n",
      "min      1.378942e+04\n",
      "25%      3.734660e+04\n",
      "50%      6.333459e+04\n",
      "75%      1.375461e+05\n",
      "max      1.632004e+07\n",
      "Name: balance, dtype: float64\n"
     ]
    }
   ],
   "source": [
    "sns.histplot(df_final_demo['balance_group'])\n",
    "plt.title('Distribución según balance de los Clientes')\n",
    "plt.xlabel('Tipo Cliente por Balance')\n",
    "plt.ylabel('Frecuencia')\n",
    "plt.show()\n",
    "\n",
    "# Estadísticas descriptivas de la edad\n",
    "print(df_final_demo['balance'].describe())"
   ]
  },
  {
   "cell_type": "markdown",
   "metadata": {},
   "source": [
    "Gender"
   ]
  },
  {
   "cell_type": "code",
   "execution_count": 119,
   "metadata": {},
   "outputs": [
    {
     "data": {
      "image/png": "[encoded data removed]",
      "text/plain": [
       "<Figure size 640x480 with 1 Axes>"
      ]
     },
     "metadata": {},
     "output_type": "display_data"
    }
   ],
   "source": [
    "gender_distribution = df_final_demo['gender'].value_counts()\n",
    "gender_distribution.plot(kind='bar', color=['blue', 'red', 'green'])\n",
    "plt.title('Distribución de Género')\n",
    "plt.xlabel('Género')\n",
    "plt.ylabel('Número de Clientes')\n",
    "plt.show()"
   ]
  },
  {
   "cell_type": "code",
   "execution_count": 120,
   "metadata": {},
   "outputs": [
    {
     "data": {
      "image/png": "[encoded data removed]",
      "text/plain": [
       "<Figure size 1200x800 with 1 Axes>"
      ]
     },
     "metadata": {},
     "output_type": "display_data"
    }
   ],
   "source": [
    "mean_balance_by_accounts = df_final_demo.groupby('number_accounts')['balance'].mean().reset_index()\n",
    "\n",
    "plt.figure(figsize=(12, 8))\n",
    "\n",
    "\n",
    "sns.lineplot(data=mean_balance_by_accounts, x='number_accounts', y='balance', marker='o', color='blue')\n",
    "\n",
    "\n",
    "for i in range(mean_balance_by_accounts.shape[0]):\n",
    "    plt.text(\n",
    "        mean_balance_by_accounts['number_accounts'][i],\n",
    "        mean_balance_by_accounts['balance'][i],\n",
    "        f\"{mean_balance_by_accounts['balance'][i]:,.0f}\",\n",
    "        fontsize=10,\n",
    "        ha='right',\n",
    "        va='bottom'\n",
    "    )\n",
    "\n",
    "plt.xlabel('Número de cuentas')\n",
    "plt.ylabel('Balance medio')\n",
    "plt.title('Balance medio por Número de Cuentas')\n",
    "plt.grid(True)\n",
    "plt.show()\n"
   ]
  },
  {
   "cell_type": "code",
   "execution_count": 178,
   "metadata": {},
   "outputs": [],
   "source": [
    "df_final_demo.to_csv(\"df_variables.csv\",index= False)"
   ]
  },
  {
   "cell_type": "markdown",
   "metadata": {},
   "source": [
    "Hipótesis"
   ]
  },
  {
   "cell_type": "code",
   "execution_count": 121,
   "metadata": {},
   "outputs": [],
   "source": [
    "import scipy.stats as st"
   ]
  },
  {
   "cell_type": "code",
   "execution_count": 122,
   "metadata": {},
   "outputs": [],
   "source": [
    "# Las mujeres tienen menos media de balance que los hombres\n",
    "# Los clientes más nuevos son los que menos balance medio tienen\n",
    "# Los clientes senior tienen más número de cuentas de media que los adultos\n",
    "# Los clientes senior tienen más media de llamadas que los jóvenes\n",
    "# Las mujeres jóvenes tienen más log on de media que las mujeres senior"
   ]
  },
  {
   "cell_type": "code",
   "execution_count": 123,
   "metadata": {},
   "outputs": [
    {
     "name": "stdout",
     "output_type": "stream",
     "text": [
      "stat:  -23.767008224572088\n",
      "p_value:  1.0\n",
      "We are not able to reject the null hypothesis, female balance is lower than male balance\n"
     ]
    }
   ],
   "source": [
    "#1\n",
    "\n",
    "#HO: mu balance_mujeres <= mu balance_hombres\n",
    "#H1: mu balance_mujeres > mu balance_hombres\n",
    "\n",
    "balance_female = df_final_demo[df_final_demo['gender'] == 'F']['balance']\n",
    "balance_male = df_final_demo[df_final_demo['gender'] == 'M']['balance']\n",
    "alpha = 0.05\n",
    "stat, p_value = st.ttest_ind(balance_female, balance_male, alternative='greater')\n",
    "print(\"stat: \", stat)\n",
    "print(\"p_value: \", p_value)\n",
    "if p_value > alpha:\n",
    "    print(\"We are not able to reject the null hypothesis, female balance is lower than male balance\")\n",
    "else:\n",
    "    print(\"We reject the null hypotesis\")\n"
   ]
  },
  {
   "cell_type": "code",
   "execution_count": 124,
   "metadata": {},
   "outputs": [
    {
     "data": {
      "text/plain": [
       "np.float64(135565.42243218288)"
      ]
     },
     "execution_count": 124,
     "metadata": {},
     "output_type": "execute_result"
    }
   ],
   "source": [
    "balance_female.mean()"
   ]
  },
  {
   "cell_type": "code",
   "execution_count": 125,
   "metadata": {},
   "outputs": [
    {
     "data": {
      "text/plain": [
       "np.float64(212299.86806693647)"
      ]
     },
     "execution_count": 125,
     "metadata": {},
     "output_type": "execute_result"
    }
   ],
   "source": [
    "balance_male.mean()"
   ]
  },
  {
   "cell_type": "code",
   "execution_count": 141,
   "metadata": {},
   "outputs": [
    {
     "name": "stdout",
     "output_type": "stream",
     "text": [
      "stat:  1227.9367792666003\n",
      "p_value:  0.0\n",
      "We reject the null hypothesis, new clients, regular clients and premium clients have not the same average balance \n"
     ]
    }
   ],
   "source": [
    "#2\n",
    "# Los clientes nuevos, los regulares y los premium tienen el mismo balance medio\n",
    "# H0 = Mu nuevos = Mu regulares = Mu premium \n",
    "# H1 = Mu nuevos =! Mu regulares != Mu premium\n",
    "alpha = 0.05\n",
    "media_balance_cliente = df_final_demo.groupby('fidelity_group')['balance'].apply(list)\n",
    "\n",
    "args = [media_balance_cliente[group] for group in media_balance_cliente.index]\n",
    "\n",
    "stat, p_value = st.f_oneway(*args)\n",
    "stat, p_value = st.f_oneway(*args)\n",
    "print(\"stat: \", stat)\n",
    "print(\"p_value: \", p_value)\n",
    "if p_value > alpha:\n",
    "    print(\"We are not able to reject the null hypothesis\")\n",
    "else:\n",
    "    print(\"We reject the null hypothesis, new clients, regular clients and premium clients have not the same average balance \")"
   ]
  },
  {
   "cell_type": "code",
   "execution_count": 146,
   "metadata": {},
   "outputs": [
    {
     "data": {
      "text/plain": [
       "fidelity_group\n",
       "new         89366.011304\n",
       "premium    240007.977266\n",
       "regular    124202.628176\n",
       "Name: balance, dtype: float64"
      ]
     },
     "execution_count": 146,
     "metadata": {},
     "output_type": "execute_result"
    }
   ],
   "source": [
    "grouped_balance = df_final_demo.groupby('fidelity_group')['balance'].mean()\n",
    "grouped_balance"
   ]
  },
  {
   "cell_type": "code",
   "execution_count": 158,
   "metadata": {},
   "outputs": [
    {
     "name": "stdout",
     "output_type": "stream",
     "text": [
      "stat:  -4.400835142609296\n",
      "p_value:  0.9999945983973528\n",
      "We are not able to reject the null hypothesis, number of senior accounts is bigger or equal than number of adult accounts\n"
     ]
    }
   ],
   "source": [
    "#Los clientes senior tienen más número de cuentas de media que los adultos\n",
    "df_accounts_senior = df_final_demo[df_final_demo[\"client_age_group\"] == \"senior\"][\"number_accounts\"]\n",
    "df_accounts_adults = df_final_demo[df_final_demo[\"client_age_group\"] == \"adult\"][\"number_accounts\"]\n",
    "\n",
    "\n",
    "#HO: mu número cuentas adultos <= mu número cuentas senior\n",
    "#H1: mu número cuentas senior > mu número cuentas adultos\n",
    "alpha = 0.05\n",
    "stat, p_value = st.ttest_ind(df_accounts_senior, df_accounts_adults, alternative='greater')\n",
    "print(\"stat: \", stat)\n",
    "print(\"p_value: \", p_value)\n",
    "if p_value > alpha:\n",
    "    print(\"We are not able to reject the null hypothesis, number of adult accounts is lower or equal than number of senior accounts\")\n",
    "else:\n",
    "    print(\"We reject the null hypotesis\")\n"
   ]
  },
  {
   "cell_type": "code",
   "execution_count": null,
   "metadata": {},
   "outputs": [
    {
     "data": {
      "text/plain": [
       "np.float64(2.23749922929897)"
      ]
     },
     "execution_count": 41,
     "metadata": {},
     "output_type": "execute_result"
    }
   ],
   "source": [
    "mean_accounts_senior"
   ]
  },
  {
   "cell_type": "code",
   "execution_count": null,
   "metadata": {},
   "outputs": [
    {
     "data": {
      "text/plain": [
       "np.float64(2.2595226884092092)"
      ]
     },
     "execution_count": 42,
     "metadata": {},
     "output_type": "execute_result"
    }
   ],
   "source": [
    "mean_accounts_adults"
   ]
  },
  {
   "cell_type": "code",
   "execution_count": 157,
   "metadata": {},
   "outputs": [
    {
     "name": "stdout",
     "output_type": "stream",
     "text": [
      "stat:  3.279257308465833\n",
      "p_value:  0.9994790087321517\n",
      "We are not able to reject the null hypothesis, number of senior calls is bigger or equal than number of young calls\n"
     ]
    }
   ],
   "source": [
    "#Los clientes senior tienen más media de llamadas que los jóvenes\n",
    "df_calls_senior = df_final_demo[df_final_demo[\"client_age_group\"] == \"senior\"][\"total_calls_last_6_months\"]\n",
    "df_calls_youngs = df_final_demo[df_final_demo[\"client_age_group\"] == \"young\"][\"total_calls_last_6_months\"]\n",
    "\n",
    "\n",
    "#HO: mu llamadas senior >= mu número llamadas young\n",
    "#H1: mu número llamadas young < mu número llamadas senior\n",
    "alpha = 0.05\n",
    "stat, p_value = st.ttest_ind(df_calls_senior, df_calls_youngs, alternative='less')\n",
    "print(\"stat: \", stat)\n",
    "print(\"p_value: \", p_value)\n",
    "if p_value > alpha:\n",
    "    print(\"We are not able to reject the null hypothesis, number of senior calls is bigger or equal than number of young calls\")\n",
    "else:\n",
    "    print(\"We reject the null hypotesis\")\n"
   ]
  },
  {
   "cell_type": "code",
   "execution_count": 176,
   "metadata": {},
   "outputs": [
    {
     "name": "stdout",
     "output_type": "stream",
     "text": [
      "3.6070657870398914\n",
      "3.5232458642327438\n"
     ]
    }
   ],
   "source": [
    "print(df_calls_senior.mean())\n",
    "print(df_calls_youngs.mean())"
   ]
  },
  {
   "cell_type": "code",
   "execution_count": 173,
   "metadata": {},
   "outputs": [
    {
     "name": "stdout",
     "output_type": "stream",
     "text": [
      "stat:  -13.888080949715489\n",
      "p_value:  1.0494447402740657e-43\n",
      "We reject the null hypotesis, number of young females log on is bigger or equal than number of senior female log on\n"
     ]
    }
   ],
   "source": [
    "# Las mujeres jóvenes tienen más log on de media que las mujeres senior\n",
    "\n",
    "df_logon_young_f = df_final_demo[(df_final_demo[\"gender\"] == \"F\") & (df_final_demo[\"client_age_group\"] == \"young\")][\"total_logons_last_6_months\"]\n",
    "df_logon_senior_f = df_final_demo[(df_final_demo[\"gender\"] == \"F\") & (df_final_demo[\"client_age_group\"] == \"senior\")][\"total_logons_last_6_months\"]\n",
    "\n",
    "#HO: mu logon mujeres jóvenes  >= mu logon mujeres senior\n",
    "#H1: mu número log on senior < mu número log on jóvenes\n",
    "alpha = 0.05\n",
    "stat, p_value = st.ttest_ind(df_logon_young_f, df_logon_senior_f, alternative='less')\n",
    "print(\"stat: \", stat)\n",
    "print(\"p_value: \", p_value)\n",
    "if p_value > alpha:\n",
    "    print(\"We are not able to reject the null hypothesis\")\n",
    "else:\n",
    "    print(\"We reject the null hypotesis, number of young females log on is bigger or equal than number of senior female log on\")"
   ]
  },
  {
   "cell_type": "code",
   "execution_count": 168,
   "metadata": {},
   "outputs": [
    {
     "data": {
      "text/plain": [
       "np.float64(5.016453382084095)"
      ]
     },
     "execution_count": 168,
     "metadata": {},
     "output_type": "execute_result"
    }
   ],
   "source": [
    "df_logon_young_f = df_final_demo[(df_final_demo[\"gender\"] == \"F\") & (df_final_demo[\"client_age_group\"] == \"young\")][\"total_logons_last_6_months\"]\n",
    "df_logon_young_f.mean()"
   ]
  },
  {
   "cell_type": "code",
   "execution_count": 170,
   "metadata": {},
   "outputs": [
    {
     "data": {
      "text/plain": [
       "np.float64(5.734635083226633)"
      ]
     },
     "execution_count": 170,
     "metadata": {},
     "output_type": "execute_result"
    }
   ],
   "source": [
    "df_logon_senior_f = df_final_demo[(df_final_demo[\"gender\"] == \"F\") & (df_final_demo[\"client_age_group\"] == \"senior\")][\"total_logons_last_6_months\"]\n",
    "df_logon_senior_f.mean()"
   ]
  }
 ],
 "metadata": {
  "kernelspec": {
   "display_name": "Python 3",
   "language": "python",
   "name": "python3"
  },
  "language_info": {
   "codemirror_mode": {
    "name": "ipython",
    "version": 3
   },
   "file_extension": ".py",
   "mimetype": "text/x-python",
   "name": "python",
   "nbconvert_exporter": "python",
   "pygments_lexer": "ipython3",
   "version": "3.9.6"
  }
 },
 "nbformat": 4,
 "nbformat_minor": 2
}
